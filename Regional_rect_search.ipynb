{
  "nbformat": 4,
  "nbformat_minor": 0,
  "metadata": {
    "colab": {
      "provenance": []
    },
    "kernelspec": {
      "name": "python3",
      "display_name": "Python 3"
    },
    "language_info": {
      "name": "python"
    }
  },
  "cells": [
    {
      "cell_type": "markdown",
      "source": [
        "We're recreating selective search algorithm using opencv for object recognition purpose. It is faster than traditional sliding window technique. It is used on modern algorithms like YOLOv series."
      ],
      "metadata": {
        "id": "pfAUz3NT47bt"
      }
    },
    {
      "cell_type": "code",
      "execution_count": null,
      "metadata": {
        "id": "zSNiWI6544fS"
      },
      "outputs": [],
      "source": [
        "import cv2\n",
        "\n",
        "# using multithread for running our algorithm faster\n",
        "cv2.setUseOptimized(True)\n",
        "cv2.setNumThreads(2)\n",
        "\n",
        "# reading the image\n",
        "img = cv2.imread(\"\")\n",
        "\n",
        "# resizing the img\n",
        "newH = 200\n",
        "newWidth = int(img.shape[1]*200/im.shape[0])\n",
        "im = cv2.resize(img, (newWidth, newHeight))\n",
        "\n",
        "# applying selective search segmentation algorithm\n",
        "selective_search = cv2.ximgproc.segmentation.createSelectiveSearchSegmentation()\n",
        "\n",
        "# applying it on the resized image\n",
        "selective_search.setBaseImage(im)\n",
        "\n",
        "# using the faster module\n",
        "selective_search.switchToSelectiveSearchFast()\n",
        "\n",
        "# switchToSelectiveSearchQuality() produces better results at a slower pace\n",
        "\n",
        "rects = ss.process()\n",
        "print('Total Number of Region Proposals: {}'.format(len(rects)))"
      ]
    },
    {
      "cell_type": "code",
      "source": [
        "numshowrects = 100\n",
        "increment = 50\n",
        "\n",
        "while True:\n",
        "  imout = im.copy()\n",
        "\n",
        "  for i, rect in enumerate(rects):\n",
        "    if (i < numshowrects):\n",
        "      x, y, w, h = rect\n",
        "      cv2.rectangle(imOut, (x, y), (x+w, y+h), (0, 255, 0), 1, cv2.LINE_AA)\n",
        "    else:\n",
        "      break\n",
        "\n",
        "\n",
        "    cv2.imshow(\"Output\", imOut)\n",
        "    k = cv2.waitKey(0) & 0xFF\n",
        "\n",
        "    if k == 109:\n",
        "      numshowrects += increment\n",
        "\n",
        "    elif k == 108 and numshowrects > increment:\n",
        "\n",
        "      numShowRects -= increment\n",
        "\n",
        "    elif k == 100:\n",
        "      break\n",
        "\n",
        "  cv2.destroyAllWindows()"
      ],
      "metadata": {
        "id": "wM8g_2myNEAU"
      },
      "execution_count": null,
      "outputs": []
    }
  ]
}